{
  "nbformat": 4,
  "nbformat_minor": 0,
  "metadata": {
    "kernelspec": {
      "display_name": "Python 3",
      "language": "python",
      "name": "python3"
    },
    "language_info": {
      "codemirror_mode": {
        "name": "ipython",
        "version": 3
      },
      "file_extension": ".py",
      "mimetype": "text/x-python",
      "name": "python",
      "nbconvert_exporter": "python",
      "pygments_lexer": "ipython3",
      "version": "3.8.3"
    },
    "colab": {
      "name": "ANN.ipynb",
      "provenance": []
    }
  },
  "cells": [
    {
      "cell_type": "code",
      "metadata": {
        "colab": {
          "resources": {
            "http://localhost:8080/nbextensions/google.colab/files.js": {
              "data": "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",
              "ok": true,
              "headers": [
                [
                  "content-type",
                  "application/javascript"
                ]
              ],
              "status": 200,
              "status_text": "OK"
            }
          },
          "base_uri": "https://localhost:8080/",
          "height": 75
        },
        "id": "FiLwKhByf1c3",
        "outputId": "e32e8be8-565c-43de-cb78-71320c81664e"
      },
      "source": [
        "from google.colab import files\n",
        "  \n",
        "  \n",
        "uploaded = files.upload()"
      ],
      "execution_count": null,
      "outputs": [
        {
          "output_type": "display_data",
          "data": {
            "text/html": [
              "\n",
              "     <input type=\"file\" id=\"files-f4159146-8db2-44a9-bb55-ab4d45704b7b\" name=\"files[]\" multiple disabled\n",
              "        style=\"border:none\" />\n",
              "     <output id=\"result-f4159146-8db2-44a9-bb55-ab4d45704b7b\">\n",
              "      Upload widget is only available when the cell has been executed in the\n",
              "      current browser session. Please rerun this cell to enable.\n",
              "      </output>\n",
              "      <script src=\"/nbextensions/google.colab/files.js\"></script> "
            ],
            "text/plain": [
              "<IPython.core.display.HTML object>"
            ]
          },
          "metadata": {
            "tags": []
          }
        },
        {
          "output_type": "stream",
          "text": [
            "Saving phishcoop.csv to phishcoop.csv\n"
          ],
          "name": "stdout"
        }
      ]
    },
    {
      "cell_type": "code",
      "metadata": {
        "id": "KXtv7kWdfj-l"
      },
      "source": [
        "import numpy as np\n",
        "import matplotlib.pyplot as plt\n",
        "import pandas as pd\n",
        "from sklearn import metrics"
      ],
      "execution_count": null,
      "outputs": []
    },
    {
      "cell_type": "code",
      "metadata": {
        "colab": {
          "base_uri": "https://localhost:8080/"
        },
        "id": "79gQFwAIfj-n",
        "outputId": "87a06112-e1b1-4ec7-b2e0-263c88ea7d98"
      },
      "source": [
        "dataset = pd.read_csv('phishcoop.csv')\n",
        "dataset = dataset.drop('id',1)\n",
        "X = dataset.iloc[:,:-1].values\n",
        "y = dataset.iloc[:,-1:].values\n",
        "y = np.squeeze(y)\n",
        "y = np.where(y == -1, 0, 1)\n",
        "\n",
        "from sklearn.model_selection import train_test_split\n",
        "X_train, X_test, y_train, y_test = train_test_split(X,y,test_size = 0.25, random_state=0)\n",
        "print(X.shape)"
      ],
      "execution_count": null,
      "outputs": [
        {
          "output_type": "stream",
          "text": [
            "(6992, 30)\n"
          ],
          "name": "stdout"
        }
      ]
    },
    {
      "cell_type": "code",
      "metadata": {
        "id": "fufCV9sqfj-p"
      },
      "source": [
        "from keras.models import Sequential\n",
        "from keras.layers import Dense\n",
        "\n",
        "classifier = Sequential()\n",
        "\n",
        "classifier.add(Dense(units = 16, kernel_initializer = 'uniform', activation = 'relu', input_dim = 30))\n",
        "classifier.add(Dense(units = 8, kernel_initializer = 'uniform', activation = 'relu'))\n",
        "classifier.add(Dense(units = 6, kernel_initializer = 'uniform', activation = 'relu'))\n",
        "classifier.add(Dense(units = 1, kernel_initializer = 'uniform', activation = 'sigmoid'))"
      ],
      "execution_count": null,
      "outputs": []
    },
    {
      "cell_type": "code",
      "metadata": {
        "colab": {
          "base_uri": "https://localhost:8080/"
        },
        "id": "zT5SjQPUfj-q",
        "outputId": "4d1e579a-93a8-48cc-aed4-97e7bcb840a0"
      },
      "source": [
        "classifier.compile(optimizer = 'rmsprop', loss = 'binary_crossentropy', metrics = ['accuracy'])\n",
        "classifier.fit(X_train, y_train, batch_size = 1, epochs = 100)"
      ],
      "execution_count": null,
      "outputs": [
        {
          "output_type": "stream",
          "text": [
            "Epoch 1/100\n",
            "5244/5244 [==============================] - 6s 1ms/step - loss: 0.3915 - accuracy: 0.8424\n",
            "Epoch 2/100\n",
            "5244/5244 [==============================] - 6s 1ms/step - loss: 0.2332 - accuracy: 0.9198\n",
            "Epoch 3/100\n",
            "5244/5244 [==============================] - 6s 1ms/step - loss: 0.2245 - accuracy: 0.9178\n",
            "Epoch 4/100\n",
            "5244/5244 [==============================] - 6s 1ms/step - loss: 0.2164 - accuracy: 0.9281\n",
            "Epoch 5/100\n",
            "5244/5244 [==============================] - 6s 1ms/step - loss: 0.2078 - accuracy: 0.9352\n",
            "Epoch 6/100\n",
            "5244/5244 [==============================] - 6s 1ms/step - loss: 0.2299 - accuracy: 0.9293\n",
            "Epoch 7/100\n",
            "5244/5244 [==============================] - 6s 1ms/step - loss: 0.2051 - accuracy: 0.9410\n",
            "Epoch 8/100\n",
            "5244/5244 [==============================] - 6s 1ms/step - loss: 0.2142 - accuracy: 0.9438\n",
            "Epoch 9/100\n",
            "5244/5244 [==============================] - 6s 1ms/step - loss: 0.2247 - accuracy: 0.9400\n",
            "Epoch 10/100\n",
            "5244/5244 [==============================] - 6s 1ms/step - loss: 0.2388 - accuracy: 0.9366\n",
            "Epoch 11/100\n",
            "5244/5244 [==============================] - 6s 1ms/step - loss: 0.2156 - accuracy: 0.9520\n",
            "Epoch 12/100\n",
            "5244/5244 [==============================] - 6s 1ms/step - loss: 0.2068 - accuracy: 0.9437\n",
            "Epoch 13/100\n",
            "5244/5244 [==============================] - 6s 1ms/step - loss: 0.2302 - accuracy: 0.9424\n",
            "Epoch 14/100\n",
            "5244/5244 [==============================] - 6s 1ms/step - loss: 0.1809 - accuracy: 0.9515\n",
            "Epoch 15/100\n",
            "5244/5244 [==============================] - 6s 1ms/step - loss: 0.1905 - accuracy: 0.9436\n",
            "Epoch 16/100\n",
            "5244/5244 [==============================] - 6s 1ms/step - loss: 0.1829 - accuracy: 0.9470\n",
            "Epoch 17/100\n",
            "5244/5244 [==============================] - 6s 1ms/step - loss: 0.2129 - accuracy: 0.9506\n",
            "Epoch 18/100\n",
            "5244/5244 [==============================] - 6s 1ms/step - loss: 0.2046 - accuracy: 0.9467\n",
            "Epoch 19/100\n",
            "5244/5244 [==============================] - 6s 1ms/step - loss: 0.1988 - accuracy: 0.9519\n",
            "Epoch 20/100\n",
            "5244/5244 [==============================] - 6s 1ms/step - loss: 0.1774 - accuracy: 0.9512\n",
            "Epoch 21/100\n",
            "5244/5244 [==============================] - 6s 1ms/step - loss: 0.1803 - accuracy: 0.9521\n",
            "Epoch 22/100\n",
            "5244/5244 [==============================] - 6s 1ms/step - loss: 0.1912 - accuracy: 0.9542\n",
            "Epoch 23/100\n",
            "5244/5244 [==============================] - 6s 1ms/step - loss: 0.2135 - accuracy: 0.9479\n",
            "Epoch 24/100\n",
            "5244/5244 [==============================] - 6s 1ms/step - loss: 0.1897 - accuracy: 0.9514\n",
            "Epoch 25/100\n",
            "5244/5244 [==============================] - 6s 1ms/step - loss: 0.1894 - accuracy: 0.9471\n",
            "Epoch 26/100\n",
            "5244/5244 [==============================] - 6s 1ms/step - loss: 0.1639 - accuracy: 0.9530\n",
            "Epoch 27/100\n",
            "5244/5244 [==============================] - 6s 1ms/step - loss: 0.1876 - accuracy: 0.9489\n",
            "Epoch 28/100\n",
            "5244/5244 [==============================] - 6s 1ms/step - loss: 0.2056 - accuracy: 0.9491\n",
            "Epoch 29/100\n",
            "5244/5244 [==============================] - 6s 1ms/step - loss: 0.1800 - accuracy: 0.9510\n",
            "Epoch 30/100\n",
            "5244/5244 [==============================] - 6s 1ms/step - loss: 0.1790 - accuracy: 0.9495\n",
            "Epoch 31/100\n",
            "5244/5244 [==============================] - 6s 1ms/step - loss: 0.1806 - accuracy: 0.9488\n",
            "Epoch 32/100\n",
            "5244/5244 [==============================] - 6s 1ms/step - loss: 0.2260 - accuracy: 0.9497\n",
            "Epoch 33/100\n",
            "5244/5244 [==============================] - 6s 1ms/step - loss: 0.1884 - accuracy: 0.9536\n",
            "Epoch 34/100\n",
            "5244/5244 [==============================] - 6s 1ms/step - loss: 0.1653 - accuracy: 0.9547\n",
            "Epoch 35/100\n",
            "5244/5244 [==============================] - 6s 1ms/step - loss: 0.1743 - accuracy: 0.9519\n",
            "Epoch 36/100\n",
            "5244/5244 [==============================] - 6s 1ms/step - loss: 0.1574 - accuracy: 0.9570\n",
            "Epoch 37/100\n",
            "5244/5244 [==============================] - 6s 1ms/step - loss: 0.1880 - accuracy: 0.9546\n",
            "Epoch 38/100\n",
            "5244/5244 [==============================] - 6s 1ms/step - loss: 0.1990 - accuracy: 0.9502\n",
            "Epoch 39/100\n",
            "5244/5244 [==============================] - 6s 1ms/step - loss: 0.1957 - accuracy: 0.9427\n",
            "Epoch 40/100\n",
            "5244/5244 [==============================] - 6s 1ms/step - loss: 0.1871 - accuracy: 0.9545\n",
            "Epoch 41/100\n",
            "5244/5244 [==============================] - 6s 1ms/step - loss: 0.2184 - accuracy: 0.9528\n",
            "Epoch 42/100\n",
            "5244/5244 [==============================] - 6s 1ms/step - loss: 0.1765 - accuracy: 0.9512\n",
            "Epoch 43/100\n",
            "5244/5244 [==============================] - 6s 1ms/step - loss: 0.1927 - accuracy: 0.9520\n",
            "Epoch 44/100\n",
            "5244/5244 [==============================] - 6s 1ms/step - loss: 0.1754 - accuracy: 0.9555\n",
            "Epoch 45/100\n",
            "5244/5244 [==============================] - 6s 1ms/step - loss: 0.1802 - accuracy: 0.9520\n",
            "Epoch 46/100\n",
            "5244/5244 [==============================] - 6s 1ms/step - loss: 0.1811 - accuracy: 0.9532\n",
            "Epoch 47/100\n",
            "5244/5244 [==============================] - 6s 1ms/step - loss: 0.1588 - accuracy: 0.9533\n",
            "Epoch 48/100\n",
            "5244/5244 [==============================] - 6s 1ms/step - loss: 0.1658 - accuracy: 0.9560\n",
            "Epoch 49/100\n",
            "5244/5244 [==============================] - 6s 1ms/step - loss: 0.1689 - accuracy: 0.9514\n",
            "Epoch 50/100\n",
            "5244/5244 [==============================] - 6s 1ms/step - loss: 0.2005 - accuracy: 0.9543\n",
            "Epoch 51/100\n",
            "5244/5244 [==============================] - 6s 1ms/step - loss: 0.1962 - accuracy: 0.9541\n",
            "Epoch 52/100\n",
            "5244/5244 [==============================] - 6s 1ms/step - loss: 0.1756 - accuracy: 0.9552\n",
            "Epoch 53/100\n",
            "5244/5244 [==============================] - 6s 1ms/step - loss: 0.1809 - accuracy: 0.9559\n",
            "Epoch 54/100\n",
            "5244/5244 [==============================] - 6s 1ms/step - loss: 0.1847 - accuracy: 0.9606\n",
            "Epoch 55/100\n",
            "5244/5244 [==============================] - 6s 1ms/step - loss: 0.1590 - accuracy: 0.9573\n",
            "Epoch 56/100\n",
            "5244/5244 [==============================] - 6s 1ms/step - loss: 0.1863 - accuracy: 0.9548\n",
            "Epoch 57/100\n",
            "5244/5244 [==============================] - 6s 1ms/step - loss: 0.1613 - accuracy: 0.9532\n",
            "Epoch 58/100\n",
            "5244/5244 [==============================] - 6s 1ms/step - loss: 0.1857 - accuracy: 0.9547\n",
            "Epoch 59/100\n",
            "5244/5244 [==============================] - 6s 1ms/step - loss: 0.1642 - accuracy: 0.9592\n",
            "Epoch 60/100\n",
            "5244/5244 [==============================] - 6s 1ms/step - loss: 0.2037 - accuracy: 0.9482\n",
            "Epoch 61/100\n",
            "5244/5244 [==============================] - 6s 1ms/step - loss: 0.1684 - accuracy: 0.9551\n",
            "Epoch 62/100\n",
            "5244/5244 [==============================] - 6s 1ms/step - loss: 0.1823 - accuracy: 0.9527\n",
            "Epoch 63/100\n",
            "5244/5244 [==============================] - 6s 1ms/step - loss: 0.1892 - accuracy: 0.9591\n",
            "Epoch 64/100\n",
            "5244/5244 [==============================] - 6s 1ms/step - loss: 0.1764 - accuracy: 0.9532\n",
            "Epoch 65/100\n",
            "5244/5244 [==============================] - 6s 1ms/step - loss: 0.1700 - accuracy: 0.9566\n",
            "Epoch 66/100\n",
            "5244/5244 [==============================] - 6s 1ms/step - loss: 0.1893 - accuracy: 0.9514\n",
            "Epoch 67/100\n",
            "5244/5244 [==============================] - 6s 1ms/step - loss: 0.1846 - accuracy: 0.9578\n",
            "Epoch 68/100\n",
            "5244/5244 [==============================] - 6s 1ms/step - loss: 0.1926 - accuracy: 0.9561\n",
            "Epoch 69/100\n",
            "5244/5244 [==============================] - 6s 1ms/step - loss: 0.2182 - accuracy: 0.9453\n",
            "Epoch 70/100\n",
            "5244/5244 [==============================] - 6s 1ms/step - loss: 0.2271 - accuracy: 0.9574\n",
            "Epoch 71/100\n",
            "5244/5244 [==============================] - 6s 1ms/step - loss: 0.2179 - accuracy: 0.9566\n",
            "Epoch 72/100\n",
            "5244/5244 [==============================] - 6s 1ms/step - loss: 0.2425 - accuracy: 0.9550\n",
            "Epoch 73/100\n",
            "5244/5244 [==============================] - 6s 1ms/step - loss: 0.1901 - accuracy: 0.9542\n",
            "Epoch 74/100\n",
            "5244/5244 [==============================] - 6s 1ms/step - loss: 0.2284 - accuracy: 0.9478\n",
            "Epoch 75/100\n",
            "5244/5244 [==============================] - 6s 1ms/step - loss: 0.2245 - accuracy: 0.9495\n",
            "Epoch 76/100\n",
            "5244/5244 [==============================] - 6s 1ms/step - loss: 0.1854 - accuracy: 0.9595\n",
            "Epoch 77/100\n",
            "5244/5244 [==============================] - 6s 1ms/step - loss: 0.2200 - accuracy: 0.9530\n",
            "Epoch 78/100\n",
            "5244/5244 [==============================] - 6s 1ms/step - loss: 0.1976 - accuracy: 0.9540\n",
            "Epoch 79/100\n",
            "5244/5244 [==============================] - 6s 1ms/step - loss: 0.1831 - accuracy: 0.9571\n",
            "Epoch 80/100\n",
            "5244/5244 [==============================] - 6s 1ms/step - loss: 0.2409 - accuracy: 0.9514\n",
            "Epoch 81/100\n",
            "5244/5244 [==============================] - 6s 1ms/step - loss: 0.2171 - accuracy: 0.9527\n",
            "Epoch 82/100\n",
            "5244/5244 [==============================] - 6s 1ms/step - loss: 0.2363 - accuracy: 0.9527\n",
            "Epoch 83/100\n",
            "5244/5244 [==============================] - 6s 1ms/step - loss: 0.2331 - accuracy: 0.9528\n",
            "Epoch 84/100\n",
            "5244/5244 [==============================] - 6s 1ms/step - loss: 0.2745 - accuracy: 0.9475\n",
            "Epoch 85/100\n",
            "5244/5244 [==============================] - 6s 1ms/step - loss: 0.2341 - accuracy: 0.9537\n",
            "Epoch 86/100\n",
            "5244/5244 [==============================] - 6s 1ms/step - loss: 0.2107 - accuracy: 0.9547\n",
            "Epoch 87/100\n",
            "5244/5244 [==============================] - 6s 1ms/step - loss: 0.2169 - accuracy: 0.9500\n",
            "Epoch 88/100\n",
            "5244/5244 [==============================] - 6s 1ms/step - loss: 0.2588 - accuracy: 0.9493\n",
            "Epoch 89/100\n",
            "5244/5244 [==============================] - 6s 1ms/step - loss: 0.2300 - accuracy: 0.9567\n",
            "Epoch 90/100\n",
            "5244/5244 [==============================] - 6s 1ms/step - loss: 0.2185 - accuracy: 0.9511\n",
            "Epoch 91/100\n",
            "5244/5244 [==============================] - 6s 1ms/step - loss: 0.2213 - accuracy: 0.9527\n",
            "Epoch 92/100\n",
            "5244/5244 [==============================] - 6s 1ms/step - loss: 0.2018 - accuracy: 0.9487\n",
            "Epoch 93/100\n",
            "5244/5244 [==============================] - 6s 1ms/step - loss: 0.2432 - accuracy: 0.9441\n",
            "Epoch 94/100\n",
            "5244/5244 [==============================] - 6s 1ms/step - loss: 0.2104 - accuracy: 0.9567\n",
            "Epoch 95/100\n",
            "5244/5244 [==============================] - 6s 1ms/step - loss: 0.2127 - accuracy: 0.9512\n",
            "Epoch 96/100\n",
            "5244/5244 [==============================] - 6s 1ms/step - loss: 0.2273 - accuracy: 0.9567\n",
            "Epoch 97/100\n",
            "5244/5244 [==============================] - 6s 1ms/step - loss: 0.2229 - accuracy: 0.9474\n",
            "Epoch 98/100\n",
            "5244/5244 [==============================] - 6s 1ms/step - loss: 0.2070 - accuracy: 0.9533\n",
            "Epoch 99/100\n",
            "5244/5244 [==============================] - 6s 1ms/step - loss: 0.1999 - accuracy: 0.9490\n",
            "Epoch 100/100\n",
            "5244/5244 [==============================] - 6s 1ms/step - loss: 0.1909 - accuracy: 0.9565\n"
          ],
          "name": "stdout"
        },
        {
          "output_type": "execute_result",
          "data": {
            "text/plain": [
              "<tensorflow.python.keras.callbacks.History at 0x7fc034b5f590>"
            ]
          },
          "metadata": {
            "tags": []
          },
          "execution_count": 5
        }
      ]
    },
    {
      "cell_type": "code",
      "metadata": {
        "colab": {
          "base_uri": "https://localhost:8080/"
        },
        "id": "CtHrA1fbfj-r",
        "outputId": "c5aabfe0-3187-4996-b0fa-50fbef45c471"
      },
      "source": [
        "y_pred = classifier.predict(X_test)\n",
        "y_pred = [ 1 if y>=0.5 else 0 for y in y_pred ]\n",
        "\n",
        "print(metrics.accuracy_score(y_test, y_pred))"
      ],
      "execution_count": null,
      "outputs": [
        {
          "output_type": "stream",
          "text": [
            "0.9496567505720824\n"
          ],
          "name": "stdout"
        }
      ]
    },
    {
      "cell_type": "code",
      "metadata": {
        "colab": {
          "base_uri": "https://localhost:8080/",
          "height": 283
        },
        "id": "GKxw01tFfj-s",
        "outputId": "b2797338-cc26-45f7-c130-17a1294ee351"
      },
      "source": [
        "from sklearn.metrics import confusion_matrix\n",
        "import seaborn as sns\n",
        "\n",
        "cm = confusion_matrix(y_test, y_pred)\n",
        "\n",
        "group_names = ['True Neg','False Pos','False Neg','True Pos']\n",
        "group_counts = [\"{0:0.0f}\".format(value) for value in cm.flatten()]\n",
        "group_percentages = [\"{0:.2%}\".format(value) for value in cm.flatten()/np.sum(cm)]\n",
        "\n",
        "labels = [f\"{v1}\\n{v2}\\n{v3}\" for v1, v2, v3 in zip(group_names,group_counts,group_percentages)]\n",
        "\n",
        "labels = np.asarray(labels).reshape(2,2)\n",
        "sns.heatmap(cm, annot=labels, fmt='', cmap='Blues')"
      ],
      "execution_count": null,
      "outputs": [
        {
          "output_type": "execute_result",
          "data": {
            "text/plain": [
              "<matplotlib.axes._subplots.AxesSubplot at 0x7fc034bee210>"
            ]
          },
          "metadata": {
            "tags": []
          },
          "execution_count": 7
        },
        {
          "output_type": "display_data",
          "data": {
            "image/png": "[encoded data removed]",
            "text/plain": [
              "<Figure size 432x288 with 2 Axes>"
            ]
          },
          "metadata": {
            "tags": [],
            "needs_background": "light"
          }
        }
      ]
    },
    {
      "cell_type": "code",
      "metadata": {
        "id": "xfMYC9zffj-t"
      },
      "source": [
        ""
      ],
      "execution_count": null,
      "outputs": []
    }
  ]
}